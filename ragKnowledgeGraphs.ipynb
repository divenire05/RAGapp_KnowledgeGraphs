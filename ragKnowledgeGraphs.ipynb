{
 "cells": [
  {
   "cell_type": "code",
   "execution_count": 4,
   "id": "da328def-2a7a-4289-94f6-0038312855ab",
   "metadata": {
    "scrolled": true
   },
   "outputs": [],
   "source": [
    "import os\n",
    "\n",
    "os.environ[\"NEO4J_URI\"] = \"neo4j+s://e4aa044e.databases.neo4j.io\"\n",
    "os.environ[\"NEO4J_USERNAME\"] = \"neo4j\"\n",
    "os.environ[\"NEO4J_PASSWORD\"] = \"NmObplaapQCdBkswnB2aQJPmlunmvH7LU4xabbP489Y\""
   ]
  },
  {
   "cell_type": "code",
   "execution_count": 5,
   "id": "b2e60db8-a7ed-456b-b2b6-7d2ff5f85ad1",
   "metadata": {},
   "outputs": [],
   "source": [
    "from langchain_community.graphs import Neo4jGraph\n",
    "\n",
    "graph = Neo4jGraph()"
   ]
  },
  {
   "cell_type": "code",
   "execution_count": 11,
   "id": "2740fe92-05a9-4492-99a7-273fd1426bfc",
   "metadata": {},
   "outputs": [
    {
     "name": "stderr",
     "output_type": "stream",
     "text": [
      "/opt/anaconda3/lib/python3.12/site-packages/wikipedia/wikipedia.py:389: GuessedAtParserWarning: No parser was explicitly specified, so I'm using the best available HTML parser for this system (\"lxml\"). This usually isn't a problem, but if you run this code on another system, or in a different virtual environment, it may use a different parser and behave differently.\n",
      "\n",
      "The code that caused this warning is on line 389 of the file /opt/anaconda3/lib/python3.12/site-packages/wikipedia/wikipedia.py. To get rid of this warning, pass the additional argument 'features=\"lxml\"' to the BeautifulSoup constructor.\n",
      "\n",
      "  lis = BeautifulSoup(html).find_all('li')\n"
     ]
    }
   ],
   "source": [
    "from langchain.document_loaders import WikipediaLoader\n",
    "\n",
    "# Read the wikipedia article\n",
    "raw_documents = WikipediaLoader(query=\"Elizabeth I\").load()"
   ]
  },
  {
   "cell_type": "code",
   "execution_count": 13,
   "id": "2bfa0f3a-e614-4514-9590-631d69fe9d2f",
   "metadata": {},
   "outputs": [],
   "source": [
    "from langchain.text_splitter import TokenTextSplitter\n",
    "\n",
    "# Define chunking strategy\n",
    "text_splitter = TokenTextSplitter(chunk_size = 512, chunk_overlap = 24)\n",
    "documents = text_splitter.split_documents(raw_documents[:3])"
   ]
  },
  {
   "cell_type": "code",
   "execution_count": 18,
   "id": "718319bd-55b4-454c-aecf-9037c76101fb",
   "metadata": {},
   "outputs": [],
   "source": [
    "from langchain_ollama.chat_models import ChatOllama\n",
    "from langchain_experimental.graph_transformers import LLMGraphTransformer\n",
    "\n",
    "llm = ChatOllama(model = \"llama3.1:8b-instruct-fp16\")\n",
    "llm_transformer = LLMGraphTransformer(llm = llm)\n",
    "\n",
    "# Extract graph data\n",
    "graph_documents = llm_transformer.convert_to_graph_documents(documents)\n",
    "\n",
    "# Store to neo4j\n",
    "graph.add_graph_documents(\n",
    "    graph_documents,\n",
    "    baseEntityLabel = True,\n",
    "    include_source = True\n",
    ")"
   ]
  },
  {
   "cell_type": "code",
   "execution_count": 22,
   "id": "19c8e45a-def6-4ce2-bc45-98935e83b7fd",
   "metadata": {},
   "outputs": [],
   "source": [
    "from langchain_community.vectorstores import Neo4jVector\n",
    "from langchain_ollama import OllamaEmbeddings\n",
    "embeddings = OllamaEmbeddings(model = \"llama3.1:8b-instruct-fp16\")\n",
    "\n",
    "vector_index = Neo4jVector.from_existing_graph( # Same as vector_store\n",
    "    embeddings,\n",
    "    search_type = \"hybrid\",\n",
    "    node_label = \"Document\",\n",
    "    text_node_properties = [\"text\"],\n",
    "    embedding_node_property = \"embedding\"\n",
    ")"
   ]
  },
  {
   "cell_type": "code",
   "execution_count": 25,
   "id": "112476bc-0317-40b0-af8b-bc84ece4f4c6",
   "metadata": {},
   "outputs": [],
   "source": [
    "from langchain_core.pydantic_v1 import BaseModel, Field\n",
    "from langchain_core.prompts import ChatPromptTemplate\n",
    "\n",
    "# Extract entities from the text using Pydantic Schema\n",
    "class Entities(BaseModel):\n",
    "    \"\"\"Identifying information about entities.\"\"\"\n",
    "\n",
    "    names: list[str] = Field(\n",
    "    ...,\n",
    "    description=\"All the person, organizatoin, or business entities that appear in the text\",\n",
    "    )\n",
    "\n",
    "prompt = ChatPromptTemplate.from_messages(\n",
    "    [\n",
    "        (\n",
    "            \"system\",\n",
    "            \"You are extracting organization and person entities from the text.\",\n",
    "        ),\n",
    "        (\n",
    "            \"human\",\n",
    "            \"Use the given format to extract information from the following\"\n",
    "            \"input: {question}\",\n",
    "        ),\n",
    "    ]\n",
    ")\n",
    "\n",
    "entity_chain = prompt | llm.with_structured_output(Entities)"
   ]
  },
  {
   "cell_type": "code",
   "execution_count": 26,
   "id": "914df50e-77b2-448c-965e-5e46198d6d0d",
   "metadata": {},
   "outputs": [
    {
     "data": {
      "text/plain": [
       "Entities(names=['Amelia Earhart'])"
      ]
     },
     "execution_count": 26,
     "metadata": {},
     "output_type": "execute_result"
    }
   ],
   "source": [
    "# Testing it out\n",
    "entity_chain.invoke({\"question\": \"Where was Amelia Earhart born?\"})"
   ]
  },
  {
   "cell_type": "code",
   "execution_count": null,
   "id": "7afa2bb9-f546-4bd2-860b-345f645349bc",
   "metadata": {},
   "outputs": [],
   "source": []
  },
  {
   "cell_type": "code",
   "execution_count": null,
   "id": "4038c678-8a91-43ed-9478-26922f865c47",
   "metadata": {},
   "outputs": [],
   "source": []
  },
  {
   "cell_type": "markdown",
   "id": "bd06c48d-24c9-4b4d-a70b-d0c7222caa6c",
   "metadata": {},
   "source": [
    "ADD GITIGNORE TO REMOVE"
   ]
  },
  {
   "cell_type": "code",
   "execution_count": null,
   "id": "7740d87f-e790-44a6-958a-8d19a552fc48",
   "metadata": {},
   "outputs": [],
   "source": []
  }
 ],
 "metadata": {
  "kernelspec": {
   "display_name": "Python 3 (ipykernel)",
   "language": "python",
   "name": "python3"
  },
  "language_info": {
   "codemirror_mode": {
    "name": "ipython",
    "version": 3
   },
   "file_extension": ".py",
   "mimetype": "text/x-python",
   "name": "python",
   "nbconvert_exporter": "python",
   "pygments_lexer": "ipython3",
   "version": "3.12.7"
  }
 },
 "nbformat": 4,
 "nbformat_minor": 5
}
