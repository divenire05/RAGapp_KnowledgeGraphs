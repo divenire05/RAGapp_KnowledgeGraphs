{
 "cells": [
  {
   "cell_type": "code",
   "execution_count": 36,
   "id": "da328def-2a7a-4289-94f6-0038312855ab",
   "metadata": {
    "scrolled": true
   },
   "outputs": [],
   "source": [
    "import os\n",
    "\n",
    "os.environ[\"NEO4J_URI\"] = \"neo4j+s://e4aa044e.databases.neo4j.io\"\n",
    "os.environ[\"NEO4J_USERNAME\"] = \"neo4j\"\n",
    "os.environ[\"NEO4J_PASSWORD\"] = \"NmObplaapQCdBkswnB2aQJPmlunmvH7LU4xabbP489Y\""
   ]
  },
  {
   "cell_type": "code",
   "execution_count": 37,
   "id": "b2e60db8-a7ed-456b-b2b6-7d2ff5f85ad1",
   "metadata": {},
   "outputs": [],
   "source": [
    "from langchain_community.graphs import Neo4jGraph\n",
    "\n",
    "graph = Neo4jGraph()"
   ]
  },
  {
   "cell_type": "code",
   "execution_count": 38,
   "id": "2740fe92-05a9-4492-99a7-273fd1426bfc",
   "metadata": {},
   "outputs": [],
   "source": [
    "from langchain.document_loaders import WikipediaLoader\n",
    "\n",
    "# Read the wikipedia article\n",
    "raw_documents = WikipediaLoader(query=\"Elizabeth I\").load()"
   ]
  },
  {
   "cell_type": "code",
   "execution_count": 39,
   "id": "2bfa0f3a-e614-4514-9590-631d69fe9d2f",
   "metadata": {},
   "outputs": [],
   "source": [
    "from langchain.text_splitter import TokenTextSplitter\n",
    "\n",
    "# Define chunking strategy\n",
    "text_splitter = TokenTextSplitter(chunk_size = 512, chunk_overlap = 24)\n",
    "documents = text_splitter.split_documents(raw_documents[:3])"
   ]
  },
  {
   "cell_type": "code",
   "execution_count": 40,
   "id": "718319bd-55b4-454c-aecf-9037c76101fb",
   "metadata": {},
   "outputs": [],
   "source": [
    "from langchain_ollama.chat_models import ChatOllama\n",
    "from langchain_experimental.graph_transformers import LLMGraphTransformer\n",
    "\n",
    "llm = ChatOllama(model = \"llama3.1:8b-instruct-fp16\")\n",
    "llm_transformer = LLMGraphTransformer(llm = llm)\n",
    "\n",
    "# Extract graph data\n",
    "graph_documents = llm_transformer.convert_to_graph_documents(documents)\n",
    "\n",
    "# Store to neo4j\n",
    "graph.add_graph_documents(\n",
    "    graph_documents,\n",
    "    baseEntityLabel = True,\n",
    "    include_source = True\n",
    ")"
   ]
  },
  {
   "cell_type": "code",
   "execution_count": 41,
   "id": "19c8e45a-def6-4ce2-bc45-98935e83b7fd",
   "metadata": {},
   "outputs": [],
   "source": [
    "from langchain_community.vectorstores import Neo4jVector\n",
    "from langchain_ollama import OllamaEmbeddings\n",
    "embeddings = OllamaEmbeddings(model = \"llama3.1:8b-instruct-fp16\")\n",
    "\n",
    "vector_index = Neo4jVector.from_existing_graph( # Same as vector_store\n",
    "    embeddings,\n",
    "    search_type = \"hybrid\",\n",
    "    node_label = \"Document\",\n",
    "    text_node_properties = [\"text\"],\n",
    "    embedding_node_property = \"embedding\"\n",
    ")"
   ]
  },
  {
   "cell_type": "code",
   "execution_count": 42,
   "id": "112476bc-0317-40b0-af8b-bc84ece4f4c6",
   "metadata": {},
   "outputs": [],
   "source": [
    "from langchain_core.pydantic_v1 import BaseModel, Field\n",
    "from langchain_core.prompts import ChatPromptTemplate\n",
    "\n",
    "# Extract entities from the text using Pydantic Schema\n",
    "class Entities(BaseModel):\n",
    "    \"\"\"Identifying information about entities.\"\"\"\n",
    "\n",
    "    names: list[str] = Field(\n",
    "    ...,\n",
    "    description=\"All the person, organization, or business entities that appear in the text\",\n",
    "    )\n",
    "\n",
    "prompt = ChatPromptTemplate.from_messages(\n",
    "    [\n",
    "        (\n",
    "            \"system\",\n",
    "            \"You are extracting organization and person entities from the text.\",\n",
    "        ),\n",
    "        (\n",
    "            \"human\",\n",
    "            \"Use the given format to extract information from the following\"\n",
    "            \"input: {question}\",\n",
    "        ),\n",
    "    ]\n",
    ")\n",
    "\n",
    "entity_chain = prompt | llm.with_structured_output(Entities)"
   ]
  },
  {
   "cell_type": "code",
   "execution_count": 43,
   "id": "914df50e-77b2-448c-965e-5e46198d6d0d",
   "metadata": {},
   "outputs": [
    {
     "data": {
      "text/plain": [
       "Entities(names=['Amelia Earhart'])"
      ]
     },
     "execution_count": 43,
     "metadata": {},
     "output_type": "execute_result"
    }
   ],
   "source": [
    "# Testing it out\n",
    "entity_chain.invoke({\"question\": \"Where was Amelia Earhart born?\"})"
   ]
  },
  {
   "cell_type": "code",
   "execution_count": 53,
   "id": "7afa2bb9-f546-4bd2-860b-345f645349bc",
   "metadata": {},
   "outputs": [],
   "source": [
    "from langchain_neo4j.vectorstores.neo4j_vector import remove_lucene_chars # New package, old remove_lucene_chars is deprecated\n",
    "\n",
    "graph.query(\n",
    "    \"CREATE FULLTEXT INDEX entity IF NOT EXISTS FOR (e:__Entity__) ON EACH [e.id]\")\n",
    "\n",
    "def generate_full_text_query(input: str) -> str:\n",
    "    \"\"\"\n",
    "    Generate a full-text search query for a given input string.\n",
    "\n",
    "    This function constructs a query string suitable for a full-text\n",
    "    search. It processes the input string by splitting it into words and \n",
    "    appending a similarity threshold (~2 changed characters) to each\n",
    "    word, then combines them using the AND operator. Useful for mapping\n",
    "    entities from user questions to database values, and allows for some \n",
    "    misspelings.\n",
    "    \"\"\"\n",
    "    full_text_query = \"\"\n",
    "    words = [el for el in remove_lucene_chars(input).split() if el]\n",
    "    for word in words[:-1]:\n",
    "        full_text_query += f\" {word}~2 AND\"\n",
    "    full_text_query += f\" {words[-1]}~2\"\n",
    "    return full_text_query.strip()"
   ]
  },
  {
   "cell_type": "code",
   "execution_count": 73,
   "id": "4038c678-8a91-43ed-9478-26922f865c47",
   "metadata": {},
   "outputs": [],
   "source": [
    "# Fulltext index query\n",
    "def structured_retriever(question: str) -> str:\n",
    "    \"\"\"\n",
    "    Collects the neighborhood of entities mentioned\n",
    "    in the question\n",
    "    \"\"\"\n",
    "    result = \"\"\n",
    "    entities = entity_chain.invoke({\"question\": question})      # Adding WITH node makes the query more accurate, remove ! from MENTIONS\n",
    "    for entity in entities.names:\n",
    "        response = graph.query(\n",
    "            \"\"\"CALL db.index.fulltext.queryNodes('entity', $query, \n",
    "            {limit:2})\n",
    "            YIELD node,score\n",
    "            CALL {\n",
    "              \n",
    "              MATCH (node)-[r:MENTIONS]->(neighbor)\n",
    "              RETURN node.id + ' - ' + type(r) + ' -> ' + neighbor.id AS \n",
    "              output\n",
    "              UNION\n",
    "              \n",
    "              MATCH (node)<-[r:MENTIONS]-(neighbor)\n",
    "              RETURN neighbor.id + ' - ' + type(r) + ' -> ' +  node.id AS \n",
    "              output\n",
    "            }\n",
    "            RETURN output LIMIT 50\n",
    "            \"\"\",\n",
    "            {\"query\": generate_full_text_query(entity)},\n",
    "        )\n",
    "        result += \"\\n\".join([el['output'] for el in response])\n",
    "    return result"
   ]
  },
  {
   "cell_type": "code",
   "execution_count": 74,
   "id": "59ce0f35-bc9e-4db4-ae8f-c5b836eeec42",
   "metadata": {},
   "outputs": [
    {
     "name": "stderr",
     "output_type": "stream",
     "text": [
      "Received notification from DBMS server: {severity: WARNING} {code: Neo.ClientNotification.Statement.FeatureDeprecationWarning} {category: DEPRECATION} {title: This feature is deprecated and will be removed in future versions.} {description: CALL subquery without a variable scope clause is now deprecated. Use CALL () { ... }} {position: line: 4, column: 13, offset: 117} for query: \"CALL db.index.fulltext.queryNodes('entity', $query, \\n            {limit:2})\\n            YIELD node,score\\n            CALL {\\n              \\n              MATCH (node)-[r:MENTIONS]->(neighbor)\\n              RETURN node.id + ' - ' + type(r) + ' -> ' + neighbor.id AS \\n              output\\n              UNION\\n              \\n              MATCH (node)<-[r:MENTIONS]-(neighbor)\\n              RETURN neighbor.id + ' - ' + type(r) + ' -> ' +  node.id AS \\n              output\\n            }\\n            RETURN output LIMIT 50\\n            \"\n"
     ]
    },
    {
     "name": "stdout",
     "output_type": "stream",
     "text": [
      "2912ff1bf15ba29f11702607f35da890 - MENTIONS -> Elizabeth I\n",
      "2912ff1bf15ba29f11702607f35da890 - MENTIONS -> Henry Viii\n",
      "2912ff1bf15ba29f11702607f35da890 - MENTIONS -> Anne Boleyn\n",
      "2912ff1bf15ba29f11702607f35da890 - MENTIONS -> Edward Vi\n",
      "2912ff1bf15ba29f11702607f35da890 - MENTIONS -> Lady Jane Grey\n",
      "2912ff1bf15ba29f11702607f35da890 - MENTIONS -> Mary I\n",
      "2912ff1bf15ba29f11702607f35da890 - MENTIONS -> William Cecil\n",
      "2912ff1bf15ba29f11702607f35da890 - MENTIONS -> James Vi Of Scotland\n",
      "2912ff1bf15ba29f11702607f35da890 - MENTIONS -> Mary, Queen Of Scots\n",
      "2912ff1bf15ba29f11702607f35da890 - MENTIONS -> Sir Francis Walsingham\n",
      "2912ff1bf15ba29f11702607f35da890 - MENTIONS -> Mary\n",
      "442d5116ab76d2c40f934a2bf47b88e0 - MENTIONS -> Henry Viii\n",
      "442d5116ab76d2c40f934a2bf47b88e0 - MENTIONS -> Elizabeth\n",
      "442d5116ab76d2c40f934a2bf47b88e0 - MENTIONS -> Greenwich Palace\n",
      "442d5116ab76d2c40f934a2bf47b88e0 - MENTIONS -> Henry Viii Of England\n",
      "442d5116ab76d2c40f934a2bf47b88e0 - MENTIONS -> An Boleyn\n",
      "442d5116ab76d2c40f934a2bf47b88e0 - MENTIONS -> England\n",
      "442d5116ab76d2c40f934a2bf47b88e0 - MENTIONS -> Spain\n",
      "ff0ff5f6acc11c9954d6a30a6c735551 - MENTIONS -> Elizabeth\n",
      "ff0ff5f6acc11c9954d6a30a6c735551 - MENTIONS -> Peter The Great\n",
      "ff0ff5f6acc11c9954d6a30a6c735551 - MENTIONS -> Catherine I Of Russia\n",
      "ff0ff5f6acc11c9954d6a30a6c735551 - MENTIONS -> Anna\n",
      "ff0ff5f6acc11c9954d6a30a6c735551 - MENTIONS -> Ivan Vi\n",
      "ff0ff5f6acc11c9954d6a30a6c735551 - MENTIONS -> Mikhail Lomonosov\n",
      "ff0ff5f6acc11c9954d6a30a6c735551 - MENTIONS -> Bartolomeo Rastrelli\n",
      "ff0ff5f6acc11c9954d6a30a6c735551 - MENTIONS -> Aleksy Bestuzhev-Ryumin\n",
      "fdca90cf0cca6a24477142bd649ca671 - MENTIONS -> Elizabeth\n",
      "fdca90cf0cca6a24477142bd649ca671 - MENTIONS -> Peter The Great\n",
      "fdca90cf0cca6a24477142bd649ca671 - MENTIONS -> Catherine\n",
      "a07c486ff54d7a0859810060e294b25f - MENTIONS -> Henry Viii\n",
      "a07c486ff54d7a0859810060e294b25f - MENTIONS -> Queen Elizabeth I\n",
      "a07c486ff54d7a0859810060e294b25f - MENTIONS -> Nicholas Hilliard\n",
      "a07c486ff54d7a0859810060e294b25f - MENTIONS -> George Gower\n",
      "a07c486ff54d7a0859810060e294b25f - MENTIONS -> Cornelis Ketel\n",
      "a07c486ff54d7a0859810060e294b25f - MENTIONS -> Federico Zuccaro\n",
      "a07c486ff54d7a0859810060e294b25f - MENTIONS -> Isaac Oliver\n",
      "a07c486ff54d7a0859810060e294b25f - MENTIONS -> Marcus Gheeraerts The Younger\n",
      "fb642fb3c4bdffcc7ea6b0be177db1cc - MENTIONS -> Henry Viii\n",
      "fb642fb3c4bdffcc7ea6b0be177db1cc - MENTIONS -> Elizabeth\n",
      "fb642fb3c4bdffcc7ea6b0be177db1cc - MENTIONS -> Hans Holbein\n",
      "fb642fb3c4bdffcc7ea6b0be177db1cc - MENTIONS -> Titian\n",
      "fb642fb3c4bdffcc7ea6b0be177db1cc - MENTIONS -> Jane Seymour\n",
      "2912ff1bf15ba29f11702607f35da890 - MENTIONS -> Elizabeth I\n",
      "2912ff1bf15ba29f11702607f35da890 - MENTIONS -> Henry Viii\n",
      "2912ff1bf15ba29f11702607f35da890 - MENTIONS -> Anne Boleyn\n",
      "2912ff1bf15ba29f11702607f35da890 - MENTIONS -> Edward Vi\n",
      "2912ff1bf15ba29f11702607f35da890 - MENTIONS -> Lady Jane Grey\n",
      "2912ff1bf15ba29f11702607f35da890 - MENTIONS -> Mary I\n",
      "2912ff1bf15ba29f11702607f35da890 - MENTIONS -> William Cecil\n",
      "2912ff1bf15ba29f11702607f35da890 - MENTIONS -> James Vi Of Scotland\n"
     ]
    }
   ],
   "source": [
    "print(structured_retriever(\"Who is Elizabeth I?\"))"
   ]
  },
  {
   "cell_type": "code",
   "execution_count": 75,
   "id": "826ac2af-130c-4d95-a148-f646311cea3f",
   "metadata": {},
   "outputs": [],
   "source": [
    "def retriever(question: str):\n",
    "    print(f\"Search query: {question}\")\n",
    "    structured_data = structured_retriever(question)\n",
    "    unstructured_data = [el.page_content for el in vector_index.similarity_search(question)]\n",
    "    final_data = f\"\"\"Structured data:\n",
    "{structured_data}\n",
    "Unstructured data:\n",
    "{\"#Document \". join(unstructured_data)}\n",
    "    \"\"\"\n",
    "    return final_data"
   ]
  },
  {
   "cell_type": "code",
   "execution_count": 94,
   "id": "b188b6b6-fcfe-4dbf-ade3-0046c765c2cb",
   "metadata": {},
   "outputs": [],
   "source": [
    "from langchain_core.runnables import (\n",
    "    RunnableBranch,\n",
    "    RunnableLambda,\n",
    "    RunnableParallel,\n",
    "    RunnablePassthrough,\n",
    ")\n",
    "from langchain_core.prompts.prompt import PromptTemplate\n",
    "from langchain_core.output_parsers import StrOutputParser\n",
    "from typing import Tuple, List, Optional\n",
    "from langchain_core.messages import AIMessage, HumanMessage\n",
    "\n",
    "_template = \"\"\"Given the following conversation and a follow up question, rephrase the follow up question to be a standalone question,\n",
    "in its original language.\n",
    "Chat History:\n",
    "{chat_history}\n",
    "Follow Up Input: {question}\n",
    "Standalone question:\"\"\"  \n",
    "CONDENSE_QUESTION_PROMPT = PromptTemplate.from_template(_template)\n",
    "\n",
    "def _format_chat_history(chat_history: List[Tuple[str, str]]) -> List:\n",
    "    buffer = []\n",
    "    for human, ai in chat_history:\n",
    "        buffer.append(HumanMessage(content=human))\n",
    "        buffer.append(AIMessage(content=ai))\n",
    "    return buffer\n",
    "\n",
    "# Defining the search query\n",
    "_search_query = RunnableBranch(\n",
    "    # If input includes chat_history, condense\n",
    "    (\n",
    "        RunnableLambda(lambda x: bool(x.get(\"chat_history\"))).with_config(\n",
    "            run_name=\"HasChatHistoryCheck\"\n",
    "        ),  # Condense follow-up question and chat into a standalone_question\n",
    "        RunnablePassthrough.assign(\n",
    "            chat_history=lambda x: _format_chat_history(x[\"chat_history\"])\n",
    "        )\n",
    "        | CONDENSE_QUESTION_PROMPT\n",
    "        | ChatOllama(model = \"llama3.1:8b-instruct-fp16\")\n",
    "        | StrOutputParser(),\n",
    "    ),\n",
    "    # Else pass the question\n",
    "    RunnableLambda(lambda x : x[\"question\"]),\n",
    ")"
   ]
  },
  {
   "cell_type": "code",
   "execution_count": 88,
   "id": "309203aa-3b16-411a-9da1-e77e4518a3b8",
   "metadata": {},
   "outputs": [],
   "source": [
    "\n",
    "\n",
    "template = \"\"\"Answer the question based only on the following context:\n",
    "{context}\n",
    "\n",
    "Question: {question}\n",
    "\"\"\"\n",
    "prompt = ChatPromptTemplate.from_template(template)\n",
    "\n",
    "chain = (\n",
    "    RunnableParallel(\n",
    "        {\n",
    "            \"context\": _search_query | retriever,\n",
    "            \"question\": RunnablePassthrough(),\n",
    "        }\n",
    "    )\n",
    "    | prompt\n",
    "    | llm\n",
    "    | StrOutputParser()\n",
    ")"
   ]
  },
  {
   "cell_type": "code",
   "execution_count": 89,
   "id": "de094db5-ac5c-4649-b561-120df2462dc4",
   "metadata": {},
   "outputs": [
    {
     "name": "stdout",
     "output_type": "stream",
     "text": [
      "Search query: Which house did Elizabeth I belong to?\n"
     ]
    },
    {
     "name": "stderr",
     "output_type": "stream",
     "text": [
      "Received notification from DBMS server: {severity: WARNING} {code: Neo.ClientNotification.Statement.FeatureDeprecationWarning} {category: DEPRECATION} {title: This feature is deprecated and will be removed in future versions.} {description: CALL subquery without a variable scope clause is now deprecated. Use CALL () { ... }} {position: line: 4, column: 13, offset: 117} for query: \"CALL db.index.fulltext.queryNodes('entity', $query, \\n            {limit:2})\\n            YIELD node,score\\n            CALL {\\n              \\n              MATCH (node)-[r:MENTIONS]->(neighbor)\\n              RETURN node.id + ' - ' + type(r) + ' -> ' + neighbor.id AS \\n              output\\n              UNION\\n              \\n              MATCH (node)<-[r:MENTIONS]-(neighbor)\\n              RETURN neighbor.id + ' - ' + type(r) + ' -> ' +  node.id AS \\n              output\\n            }\\n            RETURN output LIMIT 50\\n            \"\n",
      "Received notification from DBMS server: {severity: WARNING} {code: Neo.ClientNotification.Statement.FeatureDeprecationWarning} {category: DEPRECATION} {title: This feature is deprecated and will be removed in future versions.} {description: CALL subquery without a variable scope clause is now deprecated. Use CALL () { ... }} {position: line: 4, column: 13, offset: 117} for query: \"CALL db.index.fulltext.queryNodes('entity', $query, \\n            {limit:2})\\n            YIELD node,score\\n            CALL {\\n              \\n              MATCH (node)-[r:MENTIONS]->(neighbor)\\n              RETURN node.id + ' - ' + type(r) + ' -> ' + neighbor.id AS \\n              output\\n              UNION\\n              \\n              MATCH (node)<-[r:MENTIONS]-(neighbor)\\n              RETURN neighbor.id + ' - ' + type(r) + ' -> ' +  node.id AS \\n              output\\n            }\\n            RETURN output LIMIT 50\\n            \"\n",
      "Received notification from DBMS server: {severity: WARNING} {code: Neo.ClientNotification.Statement.FeatureDeprecationWarning} {category: DEPRECATION} {title: This feature is deprecated and will be removed in future versions.} {description: CALL subquery without a variable scope clause is now deprecated. Use CALL () { ... }} {position: line: 1, column: 1, offset: 0} for query: \"CALL { CALL db.index.vector.queryNodes($index, $k, $embedding) YIELD node, score WITH collect({node:node, score:score}) AS nodes, max(score) AS max UNWIND nodes AS n RETURN n.node AS node, (n.score / max) AS score UNION CALL db.index.fulltext.queryNodes($keyword_index, $query, {limit: $k}) YIELD node, score WITH collect({node:node, score:score}) AS nodes, max(score) AS max UNWIND nodes AS n RETURN n.node AS node, (n.score / max) AS score } WITH node, max(score) AS score ORDER BY score DESC LIMIT $k RETURN reduce(str='', k IN ['text'] | str + '\\\\n' + k + ': ' + coalesce(node[k], '')) AS text, node {.*, `embedding`: Null, id: Null, `text`: Null} AS metadata, score\"\n"
     ]
    },
    {
     "data": {
      "text/plain": [
       "'The Tudor dynasty.'"
      ]
     },
     "execution_count": 89,
     "metadata": {},
     "output_type": "execute_result"
    }
   ],
   "source": [
    "chain.invoke({\"question\": \"Which house did Elizabeth I belong to?\"})"
   ]
  },
  {
   "cell_type": "code",
   "execution_count": 95,
   "id": "c0c4acb0-3099-4db0-ab8a-22c7167fb5cd",
   "metadata": {},
   "outputs": [
    {
     "name": "stdout",
     "output_type": "stream",
     "text": [
      "Search query: When was Elizabeth I born?\n"
     ]
    },
    {
     "name": "stderr",
     "output_type": "stream",
     "text": [
      "Received notification from DBMS server: {severity: WARNING} {code: Neo.ClientNotification.Statement.FeatureDeprecationWarning} {category: DEPRECATION} {title: This feature is deprecated and will be removed in future versions.} {description: CALL subquery without a variable scope clause is now deprecated. Use CALL () { ... }} {position: line: 4, column: 13, offset: 117} for query: \"CALL db.index.fulltext.queryNodes('entity', $query, \\n            {limit:2})\\n            YIELD node,score\\n            CALL {\\n              \\n              MATCH (node)-[r:MENTIONS]->(neighbor)\\n              RETURN node.id + ' - ' + type(r) + ' -> ' + neighbor.id AS \\n              output\\n              UNION\\n              \\n              MATCH (node)<-[r:MENTIONS]-(neighbor)\\n              RETURN neighbor.id + ' - ' + type(r) + ' -> ' +  node.id AS \\n              output\\n            }\\n            RETURN output LIMIT 50\\n            \"\n",
      "Received notification from DBMS server: {severity: WARNING} {code: Neo.ClientNotification.Statement.FeatureDeprecationWarning} {category: DEPRECATION} {title: This feature is deprecated and will be removed in future versions.} {description: CALL subquery without a variable scope clause is now deprecated. Use CALL () { ... }} {position: line: 1, column: 1, offset: 0} for query: \"CALL { CALL db.index.vector.queryNodes($index, $k, $embedding) YIELD node, score WITH collect({node:node, score:score}) AS nodes, max(score) AS max UNWIND nodes AS n RETURN n.node AS node, (n.score / max) AS score UNION CALL db.index.fulltext.queryNodes($keyword_index, $query, {limit: $k}) YIELD node, score WITH collect({node:node, score:score}) AS nodes, max(score) AS max UNWIND nodes AS n RETURN n.node AS node, (n.score / max) AS score } WITH node, max(score) AS score ORDER BY score DESC LIMIT $k RETURN reduce(str='', k IN ['text'] | str + '\\\\n' + k + ': ' + coalesce(node[k], '')) AS text, node {.*, `embedding`: Null, id: Null, `text`: Null} AS metadata, score\"\n"
     ]
    },
    {
     "data": {
      "text/plain": [
       "'The question is about Elizabeth I, but there are multiple texts with different subjects. The text that appears most relevant is the one about Queen Elizabeth I.\\n\\nAccording to this text, \"Elizabeth was born at Greenwich Palace on 7 September 1533\".\\n\\nThis answer matches the given options in the chat history.'"
      ]
     },
     "execution_count": 95,
     "metadata": {},
     "output_type": "execute_result"
    }
   ],
   "source": [
    "chain.invoke(\n",
    "    {\n",
    "        \"question\": \"When was she born?\",\n",
    "        \"chat_history\": [(\"Which house did Elizabeth I belong to?\",\n",
    "        \"House Of Tudor\")],\n",
    "    }\n",
    ")"
   ]
  },
  {
   "cell_type": "code",
   "execution_count": null,
   "id": "31c8e52f-1116-4bf8-8d9f-7fe7c2f0b07b",
   "metadata": {},
   "outputs": [],
   "source": []
  },
  {
   "cell_type": "code",
   "execution_count": null,
   "id": "a56a92bc-c70b-434c-a83e-00f96efe6525",
   "metadata": {},
   "outputs": [],
   "source": []
  },
  {
   "cell_type": "markdown",
   "id": "bd06c48d-24c9-4b4d-a70b-d0c7222caa6c",
   "metadata": {},
   "source": [
    "ADD GITIGNORE TO REMOVE"
   ]
  }
 ],
 "metadata": {
  "kernelspec": {
   "display_name": "Python 3 (ipykernel)",
   "language": "python",
   "name": "python3"
  },
  "language_info": {
   "codemirror_mode": {
    "name": "ipython",
    "version": 3
   },
   "file_extension": ".py",
   "mimetype": "text/x-python",
   "name": "python",
   "nbconvert_exporter": "python",
   "pygments_lexer": "ipython3",
   "version": "3.12.7"
  }
 },
 "nbformat": 4,
 "nbformat_minor": 5
}
