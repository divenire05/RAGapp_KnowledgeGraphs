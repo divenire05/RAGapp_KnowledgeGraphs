{
 "cells": [
  {
   "cell_type": "code",
   "execution_count": 4,
   "id": "da328def-2a7a-4289-94f6-0038312855ab",
   "metadata": {
    "scrolled": true
   },
   "outputs": [],
   "source": [
    "import os\n",
    "\n",
    "os.environ[\"NEO4J_URI\"] = \"neo4j+s://e4aa044e.databases.neo4j.io\"\n",
    "os.environ[\"NEO4J_USERNAME\"] = \"neo4j\"\n",
    "os.environ[\"NEO4J_PASSWORD\"] = \"NmObplaapQCdBkswnB2aQJPmlunmvH7LU4xabbP489Y\""
   ]
  },
  {
   "cell_type": "code",
   "execution_count": 5,
   "id": "b2e60db8-a7ed-456b-b2b6-7d2ff5f85ad1",
   "metadata": {},
   "outputs": [],
   "source": [
    "from langchain_community.graphs import Neo4jGraph\n",
    "\n",
    "graph = Neo4jGraph()"
   ]
  },
  {
   "cell_type": "code",
   "execution_count": 6,
   "id": "68f8cfc6-4cc4-430c-b6c7-7cc75120f14d",
   "metadata": {},
   "outputs": [],
   "source": [
    "from langchain_ollama.chat_models import ChatOllama\n",
    "llm = ChatOllama(model = \"llama3.1:8b-instruct-fp16\")"
   ]
  },
  {
   "cell_type": "code",
   "execution_count": null,
   "id": "2740fe92-05a9-4492-99a7-273fd1426bfc",
   "metadata": {},
   "outputs": [],
   "source": []
  },
  {
   "cell_type": "code",
   "execution_count": null,
   "id": "2bfa0f3a-e614-4514-9590-631d69fe9d2f",
   "metadata": {},
   "outputs": [],
   "source": []
  },
  {
   "cell_type": "code",
   "execution_count": null,
   "id": "718319bd-55b4-454c-aecf-9037c76101fb",
   "metadata": {},
   "outputs": [],
   "source": []
  },
  {
   "cell_type": "code",
   "execution_count": null,
   "id": "19c8e45a-def6-4ce2-bc45-98935e83b7fd",
   "metadata": {},
   "outputs": [],
   "source": []
  },
  {
   "cell_type": "code",
   "execution_count": null,
   "id": "112476bc-0317-40b0-af8b-bc84ece4f4c6",
   "metadata": {},
   "outputs": [],
   "source": []
  },
  {
   "cell_type": "code",
   "execution_count": null,
   "id": "914df50e-77b2-448c-965e-5e46198d6d0d",
   "metadata": {},
   "outputs": [],
   "source": []
  },
  {
   "cell_type": "code",
   "execution_count": null,
   "id": "7afa2bb9-f546-4bd2-860b-345f645349bc",
   "metadata": {},
   "outputs": [],
   "source": []
  },
  {
   "cell_type": "code",
   "execution_count": null,
   "id": "4038c678-8a91-43ed-9478-26922f865c47",
   "metadata": {},
   "outputs": [],
   "source": []
  },
  {
   "cell_type": "markdown",
   "id": "bd06c48d-24c9-4b4d-a70b-d0c7222caa6c",
   "metadata": {},
   "source": [
    "ADD GITIGNORE TO REMOVE"
   ]
  },
  {
   "cell_type": "code",
   "execution_count": null,
   "id": "7740d87f-e790-44a6-958a-8d19a552fc48",
   "metadata": {},
   "outputs": [],
   "source": []
  }
 ],
 "metadata": {
  "kernelspec": {
   "display_name": "Python 3 (ipykernel)",
   "language": "python",
   "name": "python3"
  },
  "language_info": {
   "codemirror_mode": {
    "name": "ipython",
    "version": 3
   },
   "file_extension": ".py",
   "mimetype": "text/x-python",
   "name": "python",
   "nbconvert_exporter": "python",
   "pygments_lexer": "ipython3",
   "version": "3.12.7"
  }
 },
 "nbformat": 4,
 "nbformat_minor": 5
}
