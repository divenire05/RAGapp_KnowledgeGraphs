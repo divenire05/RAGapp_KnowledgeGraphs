{
 "cells": [
  {
   "cell_type": "code",
   "execution_count": 36,
   "id": "da328def-2a7a-4289-94f6-0038312855ab",
   "metadata": {
    "scrolled": true
   },
   "outputs": [],
   "source": [
    "import os\n",
    "\n",
    "os.environ[\"NEO4J_URI\"] = \"neo4j+s://e4aa044e.databases.neo4j.io\"\n",
    "os.environ[\"NEO4J_USERNAME\"] = \"neo4j\"\n",
    "os.environ[\"NEO4J_PASSWORD\"] = \"NmObplaapQCdBkswnB2aQJPmlunmvH7LU4xabbP489Y\""
   ]
  },
  {
   "cell_type": "code",
   "execution_count": 37,
   "id": "b2e60db8-a7ed-456b-b2b6-7d2ff5f85ad1",
   "metadata": {},
   "outputs": [],
   "source": [
    "from langchain_community.graphs import Neo4jGraph\n",
    "\n",
    "graph = Neo4jGraph()"
   ]
  },
  {
   "cell_type": "code",
   "execution_count": 38,
   "id": "2740fe92-05a9-4492-99a7-273fd1426bfc",
   "metadata": {},
   "outputs": [],
   "source": [
    "from langchain.document_loaders import WikipediaLoader\n",
    "\n",
    "# Read the wikipedia article\n",
    "raw_documents = WikipediaLoader(query=\"Elizabeth I\").load()"
   ]
  },
  {
   "cell_type": "code",
   "execution_count": 39,
   "id": "2bfa0f3a-e614-4514-9590-631d69fe9d2f",
   "metadata": {},
   "outputs": [],
   "source": [
    "from langchain.text_splitter import TokenTextSplitter\n",
    "\n",
    "# Define chunking strategy\n",
    "text_splitter = TokenTextSplitter(chunk_size = 512, chunk_overlap = 24)\n",
    "documents = text_splitter.split_documents(raw_documents[:3])"
   ]
  },
  {
   "cell_type": "code",
   "execution_count": null,
   "id": "718319bd-55b4-454c-aecf-9037c76101fb",
   "metadata": {},
   "outputs": [],
   "source": [
    "from langchain_ollama.chat_models import ChatOllama\n",
    "from langchain_experimental.graph_transformers import LLMGraphTransformer\n",
    "\n",
    "llm = ChatOllama(model = \"llama3.1:8b-instruct-fp16\")\n",
    "llm_transformer = LLMGraphTransformer(llm = llm)\n",
    "\n",
    "# Extract graph data\n",
    "graph_documents = llm_transformer.convert_to_graph_documents(documents)\n",
    "\n",
    "# Store to neo4j\n",
    "graph.add_graph_documents(\n",
    "    graph_documents,\n",
    "    baseEntityLabel = True,\n",
    "    include_source = True\n",
    ")"
   ]
  },
  {
   "cell_type": "code",
   "execution_count": null,
   "id": "19c8e45a-def6-4ce2-bc45-98935e83b7fd",
   "metadata": {},
   "outputs": [],
   "source": [
    "from langchain_community.vectorstores import Neo4jVector\n",
    "from langchain_ollama import OllamaEmbeddings\n",
    "embeddings = OllamaEmbeddings(model = \"llama3.1:8b-instruct-fp16\")\n",
    "\n",
    "vector_index = Neo4jVector.from_existing_graph( # Same as vector_store\n",
    "    embeddings,\n",
    "    search_type = \"hybrid\",\n",
    "    node_label = \"Document\",\n",
    "    text_node_properties = [\"text\"],\n",
    "    embedding_node_property = \"embedding\"\n",
    ")"
   ]
  },
  {
   "cell_type": "code",
   "execution_count": null,
   "id": "112476bc-0317-40b0-af8b-bc84ece4f4c6",
   "metadata": {},
   "outputs": [],
   "source": [
    "from langchain_core.pydantic_v1 import BaseModel, Field\n",
    "from langchain_core.prompts import ChatPromptTemplate\n",
    "\n",
    "# Extract entities from the text using Pydantic Schema\n",
    "class Entities(BaseModel):\n",
    "    \"\"\"Identifying information about entities.\"\"\"\n",
    "\n",
    "    names: list[str] = Field(\n",
    "    ...,\n",
    "    description=\"All the person, organization, or business entities that appear in the text\",\n",
    "    )\n",
    "\n",
    "prompt = ChatPromptTemplate.from_messages(\n",
    "    [\n",
    "        (\n",
    "            \"system\",\n",
    "            \"You are extracting organization and person entities from the text.\",\n",
    "        ),\n",
    "        (\n",
    "            \"human\",\n",
    "            \"Use the given format to extract information from the following\"\n",
    "            \"input: {question}\",\n",
    "        ),\n",
    "    ]\n",
    ")\n",
    "\n",
    "entity_chain = prompt | llm.with_structured_output(Entities)"
   ]
  },
  {
   "cell_type": "code",
   "execution_count": null,
   "id": "914df50e-77b2-448c-965e-5e46198d6d0d",
   "metadata": {},
   "outputs": [],
   "source": [
    "# Testing it out\n",
    "entity_chain.invoke({\"question\": \"Where was Amelia Earhart born?\"})"
   ]
  },
  {
   "cell_type": "code",
   "execution_count": null,
   "id": "7afa2bb9-f546-4bd2-860b-345f645349bc",
   "metadata": {},
   "outputs": [],
   "source": [
    "graph.query(\n",
    "    \"CREATE FULLTEXT INDEX entity IF NOT EXISTS FOR (e:__Entity__) ON EACH [e.id]\")\n",
    "\n",
    "def generate_full_text_query(input: str) -> str:\n",
    "    \"\"\"\n",
    "    Generate a full-text search query for a given input string.\n",
    "\n",
    "    This function constructs a query string suitable for a full-text\n",
    "    search. It processes the input string by splitting it into words and \n",
    "    appending a similarity threshold (~2 changed characters) to each\n",
    "    word, then combines them using the AND operator. Useful for mapping\n",
    "    entities from user questions to database values, and allows for some \n",
    "    misspelings.\n",
    "    \"\"\"\n",
    "    full_text_query = \"\"\n",
    "    words = [el for el in remove_lucene_chars(input).split() if el]\n",
    "    for word in words[:-1]:\n",
    "        full_text_query += f\" {word}~2 AND\"\n",
    "    full_text_query += f\" {words[-1]}~2\"\n",
    "    return full_text_query.strip()"
   ]
  },
  {
   "cell_type": "code",
   "execution_count": null,
   "id": "4038c678-8a91-43ed-9478-26922f865c47",
   "metadata": {},
   "outputs": [],
   "source": [
    "# Fulltext index query\n",
    "def structured_retriever(question: str) -> str:\n",
    "    \"\"\"\n",
    "    Collects the neighborhood of entities mentioned\n",
    "    in the question\n",
    "    \"\"\"\n",
    "    result = \"\"\n",
    "    entities = entity_chain.invoke({\"question\": question})\n",
    "    for entity in entities.names:\n",
    "        response = graph.query(\n",
    "            \"\"\"CALL db.index.fulltext.queryNodes('entity', $query, \n",
    "            {limit:2})\n",
    "            YIELD node,score\n",
    "            CALL {\n",
    "              MATCH (node)-[r:!MENTIONS]->(neighbor)\n",
    "              RETURN node.id + ' - ' + type(r) + ' -> ' + neighbor.id AS \n",
    "              output\n",
    "              UNION\n",
    "              MATCH (node)<-[r:!MENTIONS]-(neighbor)\n",
    "              RETURN neighbor.id + ' - ' + type(r) + ' -> ' +  node.id AS \n",
    "              output\n",
    "            }\n",
    "            RETURN output LIMIT 50\n",
    "            \"\"\",\n",
    "            {\"query\": generate_full_text_query(entity)},\n",
    "        )\n",
    "        result += \"\\n\".join([el['output'] for el in response])\n",
    "    return result"
   ]
  },
  {
   "cell_type": "code",
   "execution_count": null,
   "id": "59ce0f35-bc9e-4db4-ae8f-c5b836eeec42",
   "metadata": {},
   "outputs": [],
   "source": [
    "print(structured_retriever(\"Who is Elizabeth I?\"))"
   ]
  },
  {
   "cell_type": "code",
   "execution_count": null,
   "id": "826ac2af-130c-4d95-a148-f646311cea3f",
   "metadata": {},
   "outputs": [],
   "source": []
  },
  {
   "cell_type": "code",
   "execution_count": null,
   "id": "309203aa-3b16-411a-9da1-e77e4518a3b8",
   "metadata": {},
   "outputs": [],
   "source": []
  },
  {
   "cell_type": "code",
   "execution_count": null,
   "id": "de094db5-ac5c-4649-b561-120df2462dc4",
   "metadata": {},
   "outputs": [],
   "source": []
  },
  {
   "cell_type": "code",
   "execution_count": null,
   "id": "c0c4acb0-3099-4db0-ab8a-22c7167fb5cd",
   "metadata": {},
   "outputs": [],
   "source": []
  },
  {
   "cell_type": "markdown",
   "id": "bd06c48d-24c9-4b4d-a70b-d0c7222caa6c",
   "metadata": {},
   "source": [
    "ADD GITIGNORE TO REMOVE"
   ]
  },
  {
   "cell_type": "code",
   "execution_count": null,
   "id": "7740d87f-e790-44a6-958a-8d19a552fc48",
   "metadata": {},
   "outputs": [],
   "source": []
  }
 ],
 "metadata": {
  "kernelspec": {
   "display_name": "Python 3 (ipykernel)",
   "language": "python",
   "name": "python3"
  },
  "language_info": {
   "codemirror_mode": {
    "name": "ipython",
    "version": 3
   },
   "file_extension": ".py",
   "mimetype": "text/x-python",
   "name": "python",
   "nbconvert_exporter": "python",
   "pygments_lexer": "ipython3",
   "version": "3.12.7"
  }
 },
 "nbformat": 4,
 "nbformat_minor": 5
}
